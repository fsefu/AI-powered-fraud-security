{
 "cells": [
  {
   "cell_type": "code",
   "execution_count": 1,
   "metadata": {},
   "outputs": [],
   "source": [
    "import sys\n",
    "import os\n",
    "sys.path.append(os.path.abspath(os.path.join(os.getcwd(), '../src')))\n",
    "sys.path.append(os.path.abspath(os.path.join(os.getcwd(), '../scripts')))"
   ]
  },
  {
   "cell_type": "code",
   "execution_count": 2,
   "metadata": {},
   "outputs": [],
   "source": [
    "import pandas as pd\n",
    "\n",
    "# Load the datasets into DataFrames (make sure you provide the correct path to the files)\n",
    "creditcard_df = pd.read_csv('../data/creditcard.csv')\n",
    "fraud_data_df = pd.read_csv('../data/Fraud_Data.csv')\n",
    "ip_data_df = pd.read_csv('../data/IpAddress_to_Country.csv')\n"
   ]
  },
  {
   "cell_type": "code",
   "execution_count": 3,
   "metadata": {},
   "outputs": [
    {
     "name": "stderr",
     "output_type": "stream",
     "text": [
      "d:\\tutorial\\10x\\tasks\\task_8\\AI-powered-fraud-security\\src\\modelling\\fraud_detection_model.py:40: UserWarning: Could not infer format, so each element will be parsed individually, falling back to `dateutil`. To ensure parsing is consistent and as-expected, please specify a format.\n",
      "  self.df[col] = pd.to_datetime(self.df[col])\n",
      "d:\\tutorial\\10x\\tasks\\task_8\\AI-powered-fraud-security\\src\\modelling\\fraud_detection_model.py:40: UserWarning: Could not infer format, so each element will be parsed individually, falling back to `dateutil`. To ensure parsing is consistent and as-expected, please specify a format.\n",
      "  self.df[col] = pd.to_datetime(self.df[col])\n",
      "d:\\tutorial\\10x\\tasks\\task_8\\AI-powered-fraud-security\\src\\modelling\\fraud_detection_model.py:40: UserWarning: Could not infer format, so each element will be parsed individually, falling back to `dateutil`. To ensure parsing is consistent and as-expected, please specify a format.\n",
      "  self.df[col] = pd.to_datetime(self.df[col])\n",
      "d:\\tutorial\\10x\\tasks\\task_8\\AI-powered-fraud-security\\src\\modelling\\fraud_detection_model.py:40: UserWarning: Could not infer format, so each element will be parsed individually, falling back to `dateutil`. To ensure parsing is consistent and as-expected, please specify a format.\n",
      "  self.df[col] = pd.to_datetime(self.df[col])\n"
     ]
    }
   ],
   "source": [
    "# Assuming you've already loaded the fraud dataset into `fraud_data_df` and credit card dataset into `creditcard_df`\n",
    "\n",
    "# Initialize for Fraud Data\n",
    "from modelling.fraud_detection_model import FraudDetectionModel\n",
    "\n",
    "\n",
    "fraud_model = FraudDetectionModel(df=fraud_data_df, target_column='class', experiment_name='Fraud_Data_Experiment')\n",
    "fraud_model.preprocess_data()\n",
    "\n",
    "fraud_model.prepare_data()\n"
   ]
  },
  {
   "cell_type": "code",
   "execution_count": 4,
   "metadata": {},
   "outputs": [],
   "source": [
    "X_train_fraud = fraud_model.X_train\n",
    "X_test_fraud = fraud_model.X_test\n",
    "feature_names_fraud = fraud_model.feature_names  # You might need to set this in your FraudDetectionModel class if it's missing\n"
   ]
  },
  {
   "cell_type": "code",
   "execution_count": 5,
   "metadata": {},
   "outputs": [
    {
     "name": "stderr",
     "output_type": "stream",
     "text": [
      "d:\\tutorial\\10x\\tasks\\task_8\\AI-powered-fraud-security\\.venv\\Lib\\site-packages\\tqdm\\auto.py:21: TqdmWarning: IProgress not found. Please update jupyter and ipywidgets. See https://ipywidgets.readthedocs.io/en/stable/user_install.html\n",
      "  from .autonotebook import tqdm as notebook_tqdm\n"
     ]
    },
    {
     "ename": "AssertionError",
     "evalue": "The shape of the shap_values matrix does not match the shape of the provided data matrix.",
     "output_type": "error",
     "traceback": [
      "\u001b[1;31m---------------------------------------------------------------------------\u001b[0m",
      "\u001b[1;31mAssertionError\u001b[0m                            Traceback (most recent call last)",
      "Cell \u001b[1;32mIn[5], line 9\u001b[0m\n\u001b[0;32m      6\u001b[0m explain_rf \u001b[38;5;241m=\u001b[39m ModelExplainability(model_path\u001b[38;5;241m=\u001b[39mmodel_path_rf, X_train\u001b[38;5;241m=\u001b[39mX_train_fraud, X_test\u001b[38;5;241m=\u001b[39mX_test_fraud, feature_names\u001b[38;5;241m=\u001b[39mfeature_names_fraud, model_type\u001b[38;5;241m=\u001b[39m\u001b[38;5;124m'\u001b[39m\u001b[38;5;124mtree\u001b[39m\u001b[38;5;124m'\u001b[39m)\n\u001b[0;32m      8\u001b[0m \u001b[38;5;66;03m# SHAP explanation\u001b[39;00m\n\u001b[1;32m----> 9\u001b[0m \u001b[43mexplain_rf\u001b[49m\u001b[38;5;241;43m.\u001b[39;49m\u001b[43mshap_explain\u001b[49m\u001b[43m(\u001b[49m\u001b[43m)\u001b[49m\n",
      "File \u001b[1;32md:\\tutorial\\10x\\tasks\\task_8\\AI-powered-fraud-security\\src\\modelling\\model_explainability.py:54\u001b[0m, in \u001b[0;36mModelExplainability.shap_explain\u001b[1;34m(self)\u001b[0m\n\u001b[0;32m     51\u001b[0m     \u001b[38;5;28;01mreturn\u001b[39;00m\n\u001b[0;32m     53\u001b[0m \u001b[38;5;66;03m# SHAP Summary Plot (for global explanation)\u001b[39;00m\n\u001b[1;32m---> 54\u001b[0m \u001b[43mshap\u001b[49m\u001b[38;5;241;43m.\u001b[39;49m\u001b[43msummary_plot\u001b[49m\u001b[43m(\u001b[49m\u001b[43mshap_values\u001b[49m\u001b[43m[\u001b[49m\u001b[38;5;241;43m1\u001b[39;49m\u001b[43m]\u001b[49m\u001b[43m,\u001b[49m\u001b[43m \u001b[49m\u001b[38;5;28;43mself\u001b[39;49m\u001b[38;5;241;43m.\u001b[39;49m\u001b[43mX_test\u001b[49m\u001b[43m,\u001b[49m\u001b[43m \u001b[49m\u001b[43mfeature_names\u001b[49m\u001b[38;5;241;43m=\u001b[39;49m\u001b[38;5;28;43mself\u001b[39;49m\u001b[38;5;241;43m.\u001b[39;49m\u001b[43mfeature_names\u001b[49m\u001b[43m)\u001b[49m\n\u001b[0;32m     55\u001b[0m plt\u001b[38;5;241m.\u001b[39mshow()\n\u001b[0;32m     57\u001b[0m \u001b[38;5;66;03m# SHAP Force Plot (for a single prediction explanation)\u001b[39;00m\n",
      "File \u001b[1;32md:\\tutorial\\10x\\tasks\\task_8\\AI-powered-fraud-security\\.venv\\Lib\\site-packages\\shap\\plots\\_beeswarm.py:543\u001b[0m, in \u001b[0;36msummary_legacy\u001b[1;34m(shap_values, features, feature_names, max_display, plot_type, color, axis_color, title, alpha, show, sort, color_bar, plot_size, layered_violin_max_num_bins, class_names, class_inds, color_bar_label, cmap, show_values_in_legend, use_log_scale)\u001b[0m\n\u001b[0;32m    540\u001b[0m         \u001b[38;5;28;01massert\u001b[39;00m \u001b[38;5;28;01mFalse\u001b[39;00m, shape_msg \u001b[38;5;241m+\u001b[39m \u001b[38;5;124m\"\u001b[39m\u001b[38;5;124m Perhaps the extra column in the shap_values matrix is the \u001b[39m\u001b[38;5;124m\"\u001b[39m \\\n\u001b[0;32m    541\u001b[0m                       \u001b[38;5;124m\"\u001b[39m\u001b[38;5;124mconstant offset? Of so just pass shap_values[:,:-1].\u001b[39m\u001b[38;5;124m\"\u001b[39m\n\u001b[0;32m    542\u001b[0m     \u001b[38;5;28;01melse\u001b[39;00m:\n\u001b[1;32m--> 543\u001b[0m         \u001b[38;5;28;01massert\u001b[39;00m num_features \u001b[38;5;241m==\u001b[39m features\u001b[38;5;241m.\u001b[39mshape[\u001b[38;5;241m1\u001b[39m], shape_msg\n\u001b[0;32m    545\u001b[0m \u001b[38;5;28;01mif\u001b[39;00m feature_names \u001b[38;5;129;01mis\u001b[39;00m \u001b[38;5;28;01mNone\u001b[39;00m:\n\u001b[0;32m    546\u001b[0m     feature_names \u001b[38;5;241m=\u001b[39m np\u001b[38;5;241m.\u001b[39marray([labels[\u001b[38;5;124m'\u001b[39m\u001b[38;5;124mFEATURE\u001b[39m\u001b[38;5;124m'\u001b[39m] \u001b[38;5;241m%\u001b[39m \u001b[38;5;28mstr\u001b[39m(i) \u001b[38;5;28;01mfor\u001b[39;00m i \u001b[38;5;129;01min\u001b[39;00m \u001b[38;5;28mrange\u001b[39m(num_features)])\n",
      "\u001b[1;31mAssertionError\u001b[0m: The shape of the shap_values matrix does not match the shape of the provided data matrix."
     ]
    }
   ],
   "source": [
    "# Initialize ModelExplainability with a saved classical model\n",
    "from modelling.model_explainability import ModelExplainability\n",
    "\n",
    "\n",
    "model_path_rf = '../model/Random Forest_fraud_detection_model.pkl'\n",
    "explain_rf = ModelExplainability(model_path=model_path_rf, X_train=X_train_fraud, X_test=X_test_fraud, feature_names=feature_names_fraud, model_type='tree')\n",
    "\n",
    "# SHAP explanation\n",
    "explain_rf.shap_explain()\n"
   ]
  },
  {
   "cell_type": "code",
   "execution_count": null,
   "metadata": {},
   "outputs": [],
   "source": [
    "\n",
    "\n",
    "# Initialize ModelExplainability with a saved deep learning model (CNN)\n",
    "model_path_cnn = '../model/CNN_Fraud_fraud_detection_model.h5'\n",
    "explain_cnn = ModelExplainability(model_path=model_path_cnn, X_train=X_train_fraud, X_test=X_test_fraud, feature_names=feature_names_fraud, model_type='deep_learning')\n",
    "\n",
    "# SHAP explanation for CNN\n",
    "explain_cnn.shap_explain()\n"
   ]
  },
  {
   "cell_type": "code",
   "execution_count": 6,
   "metadata": {},
   "outputs": [],
   "source": [
    "assert X_train_fraud.shape[1] == X_test_fraud.shape[1], \"Feature count mismatch between training and test data.\"\n"
   ]
  }
 ],
 "metadata": {
  "kernelspec": {
   "display_name": ".venv",
   "language": "python",
   "name": "python3"
  },
  "language_info": {
   "codemirror_mode": {
    "name": "ipython",
    "version": 3
   },
   "file_extension": ".py",
   "mimetype": "text/x-python",
   "name": "python",
   "nbconvert_exporter": "python",
   "pygments_lexer": "ipython3",
   "version": "3.12.0"
  }
 },
 "nbformat": 4,
 "nbformat_minor": 2
}
