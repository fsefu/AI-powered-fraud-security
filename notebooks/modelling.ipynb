{
 "cells": [
  {
   "cell_type": "code",
   "execution_count": 1,
   "metadata": {},
   "outputs": [],
   "source": [
    "import sys\n",
    "import os\n",
    "sys.path.append(os.path.abspath(os.path.join(os.getcwd(), '../src')))\n",
    "sys.path.append(os.path.abspath(os.path.join(os.getcwd(), '../scripts')))"
   ]
  },
  {
   "cell_type": "code",
   "execution_count": 2,
   "metadata": {},
   "outputs": [],
   "source": [
    "import pandas as pd\n",
    "\n",
    "# Load the datasets into DataFrames (make sure you provide the correct path to the files)\n",
    "creditcard_df = pd.read_csv('../data/creditcard.csv')\n",
    "fraud_data_df = pd.read_csv('../data/Fraud_Data.csv')\n",
    "ip_data_df = pd.read_csv('../data/IpAddress_to_Country.csv')\n"
   ]
  },
  {
   "cell_type": "code",
   "execution_count": null,
   "metadata": {},
   "outputs": [],
   "source": [
    "# Assuming you've already loaded the fraud dataset into `fraud_data_df` and credit card dataset into `creditcard_df`\n",
    "\n",
    "# Initialize for Fraud Data\n",
    "from modelling.fraud_detection_model import FraudDetectionModel\n",
    "\n",
    "\n",
    "fraud_model = FraudDetectionModel(df=fraud_data_df, target_column='class', experiment_name='Fraud_Data_Experiment')\n",
    "fraud_model.preprocess_data()\n",
    "\n",
    "fraud_model.prepare_data()\n"
   ]
  },
  {
   "cell_type": "code",
   "execution_count": null,
   "metadata": {},
   "outputs": [],
   "source": [
    "\n",
    "# Train Classical Models\n",
    "results_fraud = fraud_model.train_classical_models()\n",
    "print(\"Fraud Data Classical Models Results:\")\n",
    "print(results_fraud)\n"
   ]
  },
  {
   "cell_type": "code",
   "execution_count": null,
   "metadata": {},
   "outputs": [],
   "source": [
    "\n",
    "# Initialize for Credit Card Data\n",
    "credit_model = FraudDetectionModel(df=creditcard_df, target_column='Class', experiment_name='CreditCard_Experiment')\n",
    "credit_model.prepare_data()\n"
   ]
  },
  {
   "cell_type": "code",
   "execution_count": null,
   "metadata": {},
   "outputs": [],
   "source": [
    "\n",
    "# Train Classical Models\n",
    "results_credit = credit_model.train_classical_models()\n",
    "print(\"Credit Card Data Classical Models Results:\")\n",
    "print(results_credit)\n"
   ]
  },
  {
   "cell_type": "code",
   "execution_count": null,
   "metadata": {},
   "outputs": [],
   "source": [
    "\n",
    "# Train CNN for Fraud Data\n",
    "cnn_model_fraud = fraud_model.create_cnn_model(input_shape=(fraud_model.X_train.shape[1], 1))\n",
    "cnn_results_fraud = fraud_model.train_deep_learning_model('CNN_Fraud', cnn_model_fraud)\n",
    "print(\"CNN Model Results for Fraud Data:\")\n",
    "print(cnn_results_fraud)\n"
   ]
  },
  {
   "cell_type": "code",
   "execution_count": null,
   "metadata": {},
   "outputs": [],
   "source": [
    "\n",
    "# Train LSTM for Credit Card Data\n",
    "lstm_model_credit = credit_model.create_lstm_model(input_shape=(credit_model.X_train.shape[1], 1))\n",
    "lstm_results_credit = credit_model.train_deep_learning_model('LSTM_Credit', lstm_model_credit)\n",
    "print(\"LSTM Model Results for Credit Card Data:\")\n",
    "print(lstm_results_credit)\n"
   ]
  }
 ],
 "metadata": {
  "kernelspec": {
   "display_name": ".venv",
   "language": "python",
   "name": "python3"
  },
  "language_info": {
   "codemirror_mode": {
    "name": "ipython",
    "version": 3
   },
   "file_extension": ".py",
   "mimetype": "text/x-python",
   "name": "python",
   "nbconvert_exporter": "python",
   "pygments_lexer": "ipython3",
   "version": "3.12.0"
  }
 },
 "nbformat": 4,
 "nbformat_minor": 2
}
